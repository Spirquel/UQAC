{
 "cells": [
  {
   "cell_type": "markdown",
   "metadata": {},
   "source": [
    "En négligeant le poids en octet du mot, déterminer le nombre d’octets moyen pour stocker la représentation vectorielle en 300 dimensions d’un seul mot :\n",
    "\n",
    "ici, les valeurs stockées sont en floattants, donc pour connaitre le nombre d'octets moyen afin de stocker cette réprésentation en 300 dimension il faut prendre en considération deux cas :\n",
    "1. le flottant est un float32 :\n",
    "    si le flottant est un float32 alors celui-ci tient sur 4 octets, on peut donc en conclure que 4x300 = 1200 octets, ce qui représente le nombre d'octets moyen pour ce stockage.\n",
    "2. le flottant est un float64 :\n",
    "    si le flottant est un float64 alors celui-ci tient sur 8 octets, on peut donc en conclure que 8x300 = 2400 octets, ce qui représente le nombre d'octets moeyn pour ce stockage."
   ]
  },
  {
   "cell_type": "code",
   "execution_count": 3,
   "metadata": {},
   "outputs": [
    {
     "ename": "ModuleNotFoundError",
     "evalue": "No module named 'numpy'",
     "output_type": "error",
     "traceback": [
      "\u001b[1;31m---------------------------------------------------------------------------\u001b[0m",
      "\u001b[1;31mModuleNotFoundError\u001b[0m                       Traceback (most recent call last)",
      "Cell \u001b[1;32mIn[3], line 1\u001b[0m\n\u001b[1;32m----> 1\u001b[0m \u001b[38;5;28;01mimport\u001b[39;00m \u001b[38;5;21;01mnumpy\u001b[39;00m \u001b[38;5;28;01mas\u001b[39;00m \u001b[38;5;21;01mnp\u001b[39;00m\n\u001b[0;32m      2\u001b[0m \u001b[38;5;28mprint\u001b[39m(np\u001b[38;5;241m.\u001b[39m__version__)\n\u001b[0;32m      5\u001b[0m \u001b[38;5;66;03m# import numpy as np\u001b[39;00m\n\u001b[0;32m      6\u001b[0m \n\u001b[0;32m      7\u001b[0m \u001b[38;5;66;03m# def load_vectors(file_path, block_size):\u001b[39;00m\n\u001b[1;32m   (...)\u001b[0m\n\u001b[0;32m     39\u001b[0m \u001b[38;5;66;03m# vector = find_word_vector(file_path, word_to_search)\u001b[39;00m\n\u001b[0;32m     40\u001b[0m \u001b[38;5;66;03m# print(\"Vector for '{}': {}\".format(word_to_search, vector))\u001b[39;00m\n",
      "\u001b[1;31mModuleNotFoundError\u001b[0m: No module named 'numpy'"
     ]
    }
   ],
   "source": [
    "import numpy as np\n",
    "\n",
    "def load_vectors(file_path, block_size):\n",
    "    with open(file_path, 'r', encoding='utf-8') as f:\n",
    "        first_line = f.readline()  # Lire la première ligne (en-tête)\n",
    "        while True:\n",
    "            lines = []\n",
    "            for _ in range(block_size):\n",
    "                line = f.readline()\n",
    "                if not line:\n",
    "                    break\n",
    "                lines.append(line.strip().split())\n",
    "            if not lines:\n",
    "                break\n",
    "            yield lines\n",
    "\n",
    "def find_word_vector(file_path, word, max_memory_mb=100):\n",
    "    # Calculer la taille maximale du bloc en lignes\n",
    "    vector_size_bytes = 1200  # Taille d'un vecteur en octets\n",
    "    max_memory_bytes = max_memory_mb * 1024 * 1024\n",
    "    block_size = max_memory_bytes // vector_size_bytes\n",
    "\n",
    "    for lines in load_vectors(file_path, block_size):\n",
    "        for parts in lines:\n",
    "            current_word = parts[0]\n",
    "            if current_word == word:\n",
    "                vector = np.array(parts[1:], dtype=np.float32)\n",
    "                return vector\n",
    "    \n",
    "    return None\n",
    "\n",
    "# Exemple d'utilisation\n",
    "file_path = \"cc.fr.300.vec/cc.fr.300.vec\"\n",
    "word_to_search = \"faire\"\n",
    "vector = find_word_vector(file_path, word_to_search)\n",
    "print(\"Vector for '{}': {}\".format(word_to_search, vector))\n"
   ]
  }
 ],
 "metadata": {
  "kernelspec": {
   "display_name": "Python 3",
   "language": "python",
   "name": "python3"
  },
  "language_info": {
   "codemirror_mode": {
    "name": "ipython",
    "version": 3
   },
   "file_extension": ".py",
   "mimetype": "text/x-python",
   "name": "python",
   "nbconvert_exporter": "python",
   "pygments_lexer": "ipython3",
   "version": "3.12.4"
  }
 },
 "nbformat": 4,
 "nbformat_minor": 2
}
